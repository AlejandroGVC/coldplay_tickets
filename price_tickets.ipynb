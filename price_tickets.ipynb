{
 "cells": [
  {
   "cell_type": "code",
   "execution_count": 49,
   "id": "8d1913cf",
   "metadata": {},
   "outputs": [],
   "source": [
    "import pandas as pd\n",
    "import requests\n",
    "import bs4\n",
    "from bs4 import BeautifulSoup\n",
    "from selenium import webdriver\n",
    "from selenium.webdriver.common.by import By\n",
    "from selenium.webdriver.support.ui import WebDriverWait\n",
    "from selenium.webdriver.support import expected_conditions as EC"
   ]
  },
  {
   "cell_type": "code",
   "execution_count": 69,
   "id": "1f45ae58",
   "metadata": {},
   "outputs": [],
   "source": [
    "url_milanuncios = 'https://www.milanuncios.com/entradas-de-concierto/\\\n",
    "?s=coldplay%20paris%2017%20pista'\n",
    "url_viagogo = 'https://www.viagogo.es'\n",
    "url_viagogo2 = 'https://www.viagogo.es/Entradas-Conciertos/Indie-Rock/Coldplay-Entradas/E-8134930?qty=2'"
   ]
  },
  {
   "cell_type": "code",
   "execution_count": 37,
   "id": "e5499a99",
   "metadata": {},
   "outputs": [],
   "source": [
    "def get_html(url):\n",
    "\t'''\n",
    "\tDevuelve el contenido del html en un objeto beaufitul soup\n",
    "\t'''\n",
    "\tpage = requests.get(url)\n",
    "\treturn BeautifulSoup(page.content, 'html.parser')"
   ]
  },
  {
   "cell_type": "code",
   "execution_count": 38,
   "id": "18ca6255",
   "metadata": {},
   "outputs": [],
   "source": [
    "def milanuncios(url):\n",
    "    anuncios = get_html(url).find_all('div', {'class':'ma-AdCard-detail'})\n",
    "    ls_titulos, ls_precios, ls_descrip  = [], [], []\n",
    "    for anuncio in anuncios:\n",
    "        ls_titulos.append(anuncio.find('h2').get_text())\n",
    "        ls_precios.append(anuncio.find('span', {'class':'ma-AdPrice-value'}).get_text())\n",
    "        ls_descrip.append(anuncio.find('p', {'class':'ma-AdCardDescription-text'}).get_text())\n",
    "    dictionary = {'titulo':ls_titulos, \n",
    "                  'descripcion':ls_descrip, \n",
    "                  'precio':ls_precios} \n",
    "    return pd.DataFrame.from_dict(dictionary)"
   ]
  },
  {
   "cell_type": "code",
   "execution_count": 182,
   "id": "998b7181",
   "metadata": {},
   "outputs": [],
   "source": [
    "driver = webdriver.Safari()\n",
    "# entra a la pagina\n",
    "driver.get(url_viagogo)\n",
    "# busca 'coldplay paris 17' en el buscador de la pagina\n",
    "search = driver.find_element_by_xpath('//*[@id=\"search\"]')\n",
    "search.send_keys('coldplay paris 17')\n",
    "# espera a cargar y escoge el elemento que sale\n",
    "# aqui podria equivocarse y coger otro concierto ? \n",
    "event = WebDriverWait(driver, 4)\\\n",
    "    .until(EC.element_to_be_clickable((By.XPATH, '//*[@id=\"searchResults\"]/div[3]/div/a')))\n",
    "event.click()\n",
    "# abre el selector para elegir el numero de tickets\n",
    "slct_qnty = WebDriverWait(driver, 20)\\\n",
    "    .until(EC.element_to_be_clickable((By.XPATH, '//*[@id=\"qtySelectionModalContent\"]/div/div[1]/div[2]/div[1]')))\n",
    "slct_qnty.click()\n",
    "# dentro del selector queremos coger la opcion de dos entradas\n",
    "# hacemos un bucle por todas las opciones y extraemos el texto \n",
    "options = driver.find_elements_by_class_name('dropdown__row')\n",
    "for option in options:\n",
    "    if '2 entradas' in option.text:\n",
    "        if '12' not in option.text: # si hay 22, 32, 42... no funciona \n",
    "            option.click()\n",
    "# damos al boton de continuar\n",
    "continue_ = driver.find_element_by_xpath('//*[@id=\"qtySelectionModalContent\"]/div/button')\n",
    "continue_.click() \n",
    "# ahora scrapeamos la info de los precios \n",
    "# por todas la paginas que haya dando a 'siguiente'\n",
    "ls_htmls = []\n",
    "#ls_htmls.append(driver.page_source) #añadimos el primer html\n",
    "# añadimos el resto dando a siguiente\n",
    "next_link = 'exists'\n",
    "while next_link:\n",
    "    next_link = WebDriverWait(driver, 10)\\\n",
    "        .until(EC.presence_of_element_located((By.XPATH, '//*[@id=\"clientgridtable\"]/div[3]/div/div/ul/li[2]/a')))\n",
    "    if next_link:\n",
    "        next_link.click()\n",
    "        ls_htmls.append(driver.page_source) # !! el error, esta cargando siempre el mismo html\n",
    "    if len(ls_htmls) > 30: # para controlar la cantidad de paginas que busca\n",
    "        break\n",
    "driver.close()"
   ]
  },
  {
   "cell_type": "code",
   "execution_count": 197,
   "id": "48010343",
   "metadata": {},
   "outputs": [],
   "source": [
    "# ahora usamos BS para scrapear los htmls\n",
    "#html = ls_htmls[0]\n",
    "for html in ls_htmls:\n",
    "    html_bs = BeautifulSoup(html, 'html.parser')\n",
    "    tablon = html_bs.find('div', {'class':'f-list'}).find_all('div', {'class':'p0'})\n",
    "    ls_precio = []\n",
    "    for anuncio in tablon:\n",
    "        seccion = anuncio.find('span', {'class':'v-title-sml'}).text.strip()\n",
    "        #print(seccion)\n",
    "        if 'Pista' in seccion:\n",
    "            ls_precio.append(anuncio.find('span', {'class':'t-b'}).text.strip())"
   ]
  },
  {
   "cell_type": "code",
   "execution_count": null,
   "id": "a492b618",
   "metadata": {},
   "outputs": [],
   "source": []
  }
 ],
 "metadata": {
  "kernelspec": {
   "display_name": "Python 3",
   "language": "python",
   "name": "python3"
  },
  "language_info": {
   "codemirror_mode": {
    "name": "ipython",
    "version": 3
   },
   "file_extension": ".py",
   "mimetype": "text/x-python",
   "name": "python",
   "nbconvert_exporter": "python",
   "pygments_lexer": "ipython3",
   "version": "3.8.5"
  }
 },
 "nbformat": 4,
 "nbformat_minor": 5
}
