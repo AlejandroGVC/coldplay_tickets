{
 "cells": [
  {
   "cell_type": "code",
   "execution_count": 1,
   "id": "5d3a9ed8",
   "metadata": {},
   "outputs": [],
   "source": [
    "import pandas as pd\n",
    "import requests\n",
    "import bs4\n",
    "from bs4 import BeautifulSoup\n",
    "from selenium import webdriver\n",
    "from selenium.webdriver.common.by import By\n",
    "from selenium.webdriver.support.ui import WebDriverWait\n",
    "from selenium.webdriver.support import expected_conditions as EC\n",
    "from datetime import date"
   ]
  },
  {
   "cell_type": "code",
   "execution_count": 2,
   "id": "2bb5c86d",
   "metadata": {},
   "outputs": [],
   "source": [
    "url_milanuncios = 'https://www.milanuncios.com/entradas-de-concierto/?s=coldplay%20paris%2017%20pista'\n",
    "url_viagogo = 'https://www.viagogo.es'"
   ]
  },
  {
   "cell_type": "code",
   "execution_count": 3,
   "id": "c6486156",
   "metadata": {},
   "outputs": [],
   "source": [
    "def get_html(url):\n",
    "\t'''\n",
    "\tDevuelve el contenido del html en un objeto beaufitul soup\n",
    "\t'''\n",
    "\tpage = requests.get(url)\n",
    "\treturn BeautifulSoup(page.content, 'html.parser')"
   ]
  },
  {
   "cell_type": "code",
   "execution_count": 4,
   "id": "7ddc992c",
   "metadata": {},
   "outputs": [],
   "source": [
    "def milanuncios(url):\n",
    "    '''\n",
    "    Extrae de la pagina de mil anuncios informacion\n",
    "    del concierto de Coldpaly el 17 de julio en Paris y \n",
    "    devuelve un pandas dataframe\n",
    "    '''\n",
    "    anuncios = get_html(url).find_all('div', {'class':'ma-AdCard-detail'})\n",
    "    ls_titulos, ls_precios, ls_descrip  = [], [], []\n",
    "    for anuncio in anuncios:\n",
    "        ls_titulos.append(anuncio.find('h2').get_text())\n",
    "        ls_precios.append(anuncio.find('span', {'class':'ma-AdPrice-value'}).get_text())\n",
    "        ls_descrip.append(anuncio.find('p', {'class':'ma-AdCardDescription-text'}).get_text())\n",
    "    dictionary = {'titulo':ls_titulos, \n",
    "                  'descripcion':ls_descrip, \n",
    "                  'precio':ls_precios} \n",
    "    return pd.DataFrame.from_dict(dictionary)"
   ]
  },
  {
   "cell_type": "code",
   "execution_count": 5,
   "id": "4441696e",
   "metadata": {},
   "outputs": [],
   "source": [
    "def viagogo(url):\n",
    "    #selenium\n",
    "    driver = webdriver.Safari()\n",
    "    driver.get(url)\n",
    "    search = driver.find_element_by_xpath('//*[@id=\"search\"]')\n",
    "    search.send_keys('coldplay paris 17')\n",
    "    # espera a cargar y escoge el elemento que sale\n",
    "    # aqui podria equivocarse y coger otro concierto ? \n",
    "    event = WebDriverWait(driver, 4)\\\n",
    "        .until(EC.element_to_be_clickable((By.XPATH, '//*[@id=\"searchResults\"]/div[3]/div/a')))\n",
    "    event.click()\n",
    "    slct_qnty = WebDriverWait(driver, 20)\\\n",
    "        .until(EC.element_to_be_clickable((By.XPATH, '//*[@id=\"qtySelectionModalContent\"]/div/div[1]/div[2]/div[1]')))\n",
    "    slct_qnty.click()\n",
    "    options = driver.find_elements_by_class_name('dropdown__row')\n",
    "    for option in options:\n",
    "        if '2 entradas' in option.text:\n",
    "            if '12' not in option.text: # si hay 22, 32, 42... no funciona \n",
    "                option.click()\n",
    "\n",
    "    continue_ = driver.find_element_by_xpath('//*[@id=\"qtySelectionModalContent\"]/div/button')\n",
    "    continue_.click() \n",
    "    html = driver.page_source\n",
    "    driver.close()\n",
    "    # BS \n",
    "    tablon = BeautifulSoup(html, 'html.parser').find('div', {'class':'f-list'}).find_all('div', {'class':'p0'})\n",
    "    ls_precio = []\n",
    "    ls_dia = []\n",
    "    for anuncio in tablon:\n",
    "        seccion = anuncio.find('span', {'class':'v-title-sml'}).text.strip()\n",
    "        if 'Pista' in seccion:\n",
    "            ls_precio.append(anuncio.find('span', {'class':'t-b'}).text.strip())\n",
    "            ls_dia.append(date.today())\n",
    "            ls_pagina.append('viagogo')\n",
    "    dictionary = {'precio':ls_precio, \n",
    "                  'pagina':ls_pagina, \n",
    "                  'dia':ls_pagina} \n",
    "    return pd.DataFrame.from_dict(dictionary)"
   ]
  },
  {
   "cell_type": "code",
   "execution_count": null,
   "id": "a4025522",
   "metadata": {},
   "outputs": [],
   "source": []
  }
 ],
 "metadata": {
  "kernelspec": {
   "display_name": "Python 3",
   "language": "python",
   "name": "python3"
  },
  "language_info": {
   "codemirror_mode": {
    "name": "ipython",
    "version": 3
   },
   "file_extension": ".py",
   "mimetype": "text/x-python",
   "name": "python",
   "nbconvert_exporter": "python",
   "pygments_lexer": "ipython3",
   "version": "3.8.5"
  }
 },
 "nbformat": 4,
 "nbformat_minor": 5
}
