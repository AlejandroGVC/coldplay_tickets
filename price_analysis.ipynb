{
 "cells": [
  {
   "cell_type": "code",
   "execution_count": 35,
   "id": "b11fbc3d",
   "metadata": {},
   "outputs": [],
   "source": [
    "import pandas as pd\n",
    "from datetime import datetime"
   ]
  },
  {
   "cell_type": "code",
   "execution_count": 49,
   "id": "1a02d770",
   "metadata": {},
   "outputs": [],
   "source": [
    "df_ma_raw = pd.read_csv('milanuncios.csv')\n",
    "df_ma = df_ma_raw.copy()"
   ]
  },
  {
   "cell_type": "code",
   "execution_count": 50,
   "id": "9669f9ba",
   "metadata": {},
   "outputs": [],
   "source": [
    "df_ma['descripcion'] = df_ma['descripcion'].str.lower()\n",
    "df_ma['titulos'] = df_ma['titulos'].str.lower()"
   ]
  },
  {
   "cell_type": "code",
   "execution_count": 51,
   "id": "f28062d0",
   "metadata": {},
   "outputs": [],
   "source": [
    "search_values = ['paris', 'pista']\n",
    "df_ma = df_ma[(df_ma['titulos'].str.contains('|'.join(search_values ))) & \n",
    "              (df_ma['descripcion'].str.contains('|'.join(search_values )))]"
   ]
  },
  {
   "cell_type": "code",
   "execution_count": 52,
   "id": "258f8140",
   "metadata": {},
   "outputs": [],
   "source": [
    "df_ma['precio'] = df_ma['precio'].str.split(expand = True)[0].astype(int)\n",
    "df_ma['dia'] = pd.to_datetime(df_ma['dia'])"
   ]
  },
  {
   "cell_type": "code",
   "execution_count": 53,
   "id": "8e99feb3",
   "metadata": {},
   "outputs": [
    {
     "data": {
      "text/plain": [
       "titulos                object\n",
       "descripcion            object\n",
       "precio                  int64\n",
       "dia            datetime64[ns]\n",
       "dtype: object"
      ]
     },
     "execution_count": 53,
     "metadata": {},
     "output_type": "execute_result"
    }
   ],
   "source": [
    "df_ma.dtypes"
   ]
  },
  {
   "cell_type": "code",
   "execution_count": 102,
   "id": "3b7cf462",
   "metadata": {},
   "outputs": [],
   "source": [
    "df_vg_raw = pd.read_csv('viagogo.csv')\n",
    "df_vg = df_vg_raw.copy()"
   ]
  },
  {
   "cell_type": "code",
   "execution_count": 104,
   "id": "db769631",
   "metadata": {},
   "outputs": [],
   "source": [
    "df_vg['seccion'] = df_vg['seccion'].str.lower()\n",
    "df_vg = df_vg[df_vg['seccion'].str.contains('pista')]\n",
    "df_vg['precio'] = df_vg['precio'].str.split(expand = True)[0].astype(int)\n",
    "df_vg['dia'] = pd.to_datetime(df_vg['dia'])\n",
    "df_vg = df_vg[['precio', 'dia']]"
   ]
  },
  {
   "cell_type": "code",
   "execution_count": 109,
   "id": "639c6a6c",
   "metadata": {},
   "outputs": [
    {
     "data": {
      "text/plain": [
       "precio             int64\n",
       "dia       datetime64[ns]\n",
       "dtype: object"
      ]
     },
     "execution_count": 109,
     "metadata": {},
     "output_type": "execute_result"
    }
   ],
   "source": [
    "df_vg.dtypes"
   ]
  }
 ],
 "metadata": {
  "kernelspec": {
   "display_name": "Python 3",
   "language": "python",
   "name": "python3"
  },
  "language_info": {
   "codemirror_mode": {
    "name": "ipython",
    "version": 3
   },
   "file_extension": ".py",
   "mimetype": "text/x-python",
   "name": "python",
   "nbconvert_exporter": "python",
   "pygments_lexer": "ipython3",
   "version": "3.8.5"
  }
 },
 "nbformat": 4,
 "nbformat_minor": 5
}
